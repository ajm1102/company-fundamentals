{
 "cells": [
  {
   "cell_type": "markdown",
   "id": "82d6de6b",
   "metadata": {},
   "source": [
    "### Problem \n",
    "\n",
    "Need a way to reduce the number of metrics displyed. And at the same time only show the most important metrics such as revenue, equity etc"
   ]
  },
  {
   "cell_type": "code",
   "execution_count": 3,
   "id": "d792a687",
   "metadata": {},
   "outputs": [],
   "source": [
    "import pandas as pd\n",
    "\n",
    "columns_to_use = ['adsh', 'tag', 'qtrs', 'dimh', 'value', 'ddate', 'iprx']\n",
    "dtype = {'adsh': 'category',\n",
    "'tag': 'category', \n",
    "'qtrs': 'Int32', \n",
    "'dimh': 'category', \n",
    "'value': 'float64', \n",
    "'ddate': 'Int32', \n",
    "'iprx': 'Int32'}\n",
    "\n",
    "path_values = f'./server/data_code/2024_02_notes/num.tsv'    \n",
    "df_num = pd.read_table(path_values, usecols=columns_to_use, dtype=dtype)\n"
   ]
  },
  {
   "cell_type": "markdown",
   "id": "a3765899",
   "metadata": {},
   "source": [
    "### Solution \n",
    "\n",
    "In the actual code all metrics are taken from all companys for each month. The number of instances of each metrics is counted. Then stored as a file which can read. When query for data in the program the metrics shown to the user can reduced with the file."
   ]
  },
  {
   "cell_type": "code",
   "execution_count": 7,
   "id": "6e35937e",
   "metadata": {},
   "outputs": [
    {
     "data": {
      "text/html": [
       "<div>\n",
       "<style scoped>\n",
       "    .dataframe tbody tr th:only-of-type {\n",
       "        vertical-align: middle;\n",
       "    }\n",
       "\n",
       "    .dataframe tbody tr th {\n",
       "        vertical-align: top;\n",
       "    }\n",
       "\n",
       "    .dataframe thead th {\n",
       "        text-align: right;\n",
       "    }\n",
       "</style>\n",
       "<table border=\"1\" class=\"dataframe\">\n",
       "  <thead>\n",
       "    <tr style=\"text-align: right;\">\n",
       "      <th></th>\n",
       "      <th>tag</th>\n",
       "    </tr>\n",
       "  </thead>\n",
       "  <tbody>\n",
       "    <tr>\n",
       "      <th>RevenueFromContractWithCustomerExcludingAssessedTax</th>\n",
       "      <td>92293</td>\n",
       "    </tr>\n",
       "    <tr>\n",
       "      <th>StockholdersEquity</th>\n",
       "      <td>64558</td>\n",
       "    </tr>\n",
       "    <tr>\n",
       "      <th>NetIncomeLoss</th>\n",
       "      <td>48610</td>\n",
       "    </tr>\n",
       "    <tr>\n",
       "      <th>InvestmentOwnedAtFairValue</th>\n",
       "      <td>47668</td>\n",
       "    </tr>\n",
       "    <tr>\n",
       "      <th>DefinedBenefitPlanFairValueOfPlanAssets</th>\n",
       "      <td>46945</td>\n",
       "    </tr>\n",
       "    <tr>\n",
       "      <th>...</th>\n",
       "      <td>...</td>\n",
       "    </tr>\n",
       "    <tr>\n",
       "      <th>OperatingAccount</th>\n",
       "      <td>1</td>\n",
       "    </tr>\n",
       "    <tr>\n",
       "      <th>OilAndGasSalePrice</th>\n",
       "      <td>1</td>\n",
       "    </tr>\n",
       "    <tr>\n",
       "      <th>OilAndGasPropertiesDevelopmentCostsExpenditure</th>\n",
       "      <td>1</td>\n",
       "    </tr>\n",
       "    <tr>\n",
       "      <th>OilAndGasPropertiesClassifiedAsHeldForSale</th>\n",
       "      <td>1</td>\n",
       "    </tr>\n",
       "    <tr>\n",
       "      <th>WeightedAverageTransitionalShareRSUsOutstandingWithNoFutureServiceRequired</th>\n",
       "      <td>1</td>\n",
       "    </tr>\n",
       "  </tbody>\n",
       "</table>\n",
       "<p>183855 rows × 1 columns</p>\n",
       "</div>"
      ],
      "text/plain": [
       "                                                      tag\n",
       "RevenueFromContractWithCustomerExcludingAssesse...  92293\n",
       "StockholdersEquity                                  64558\n",
       "NetIncomeLoss                                       48610\n",
       "InvestmentOwnedAtFairValue                          47668\n",
       "DefinedBenefitPlanFairValueOfPlanAssets             46945\n",
       "...                                                   ...\n",
       "OperatingAccount                                        1\n",
       "OilAndGasSalePrice                                      1\n",
       "OilAndGasPropertiesDevelopmentCostsExpenditure          1\n",
       "OilAndGasPropertiesClassifiedAsHeldForSale              1\n",
       "WeightedAverageTransitionalShareRSUsOutstanding...      1\n",
       "\n",
       "[183855 rows x 1 columns]"
      ]
     },
     "execution_count": 7,
     "metadata": {},
     "output_type": "execute_result"
    }
   ],
   "source": [
    "pd.DataFrame(df_num['tag'].value_counts()).to_parquet('test_value_counts.parquet', compression=\"snappy\")\n",
    "\n",
    "pd.DataFrame((df_num['tag'].value_counts()))"
   ]
  },
  {
   "cell_type": "code",
   "execution_count": null,
   "id": "3ae91647",
   "metadata": {},
   "outputs": [],
   "source": []
  }
 ],
 "metadata": {
  "kernelspec": {
   "display_name": "Python 3 (ipykernel)",
   "language": "python",
   "name": "python3"
  },
  "language_info": {
   "codemirror_mode": {
    "name": "ipython",
    "version": 3
   },
   "file_extension": ".py",
   "mimetype": "text/x-python",
   "name": "python",
   "nbconvert_exporter": "python",
   "pygments_lexer": "ipython3",
   "version": "3.10.8"
  }
 },
 "nbformat": 4,
 "nbformat_minor": 5
}
