{
 "cells": [
  {
   "cell_type": "markdown",
   "id": "80d7974d",
   "metadata": {},
   "source": [
    "## Reducing the num file\n",
    "\n",
    "As a result of the large file size reading in the dataframe can take an a long time. Therefore, the dataset is filtered and saved as a reduced version. The tsv files are converted to parquet file which are more suitable to larger datasets."
   ]
  },
  {
   "cell_type": "code",
   "execution_count": 50,
   "id": "14714495",
   "metadata": {},
   "outputs": [],
   "source": [
    "import pandas as pd\n",
    "import os\n",
    "\n",
    "# read in files and change to descending order, earliest date first\n",
    "files = os.listdir('./datasets')\n",
    "files.reverse()\n",
    "\n",
    "# read only important columns and specify datatype so pandas doesn't to infer\n",
    "columns_to_use = ['adsh', 'tag', 'qtrs', 'dimh', 'value', 'ddate', 'iprx']\n",
    "dtype = {'adsh': 'category',\n",
    " 'tag': 'category', \n",
    " 'qtrs': 'Int32', \n",
    " 'dimh': 'category', \n",
    " 'value': 'float64', \n",
    " 'ddate': 'Int32', \n",
    " 'iprx': 'Int32'}\n",
    "\n",
    "# open each num tsv fiie, the file stores each xbrl value for the sec document\n",
    "for file_name in files:\n",
    "    path_values = f'./datasets/{file_name}/num.tsv'    \n",
    "    df_num = pd.read_table(path_values, usecols=columns_to_use, dtype=dtype)\n",
    "    \n",
    "    # remove any sub varibles dimh, and duplicate values iprx\n",
    "    reduced_df_num = df_num[(df_num['dimh'] == '0x00000000') & (df_num['iprx'] == 0)]\n",
    "    \n",
    "    reduced_df_num.to_parquet(f'./datasets/{file_name}/reduced_num.parquet', compression=\"snappy\")\n"
   ]
  },
  {
   "cell_type": "markdown",
   "id": "719d3c94",
   "metadata": {},
   "source": [
    "Definitions for each columns can be found here: https://www.sec.gov/files/aqfsn_1.pdf"
   ]
  }
 ],
 "metadata": {
  "kernelspec": {
   "display_name": "Python 3 (ipykernel)",
   "language": "python",
   "name": "python3"
  },
  "language_info": {
   "codemirror_mode": {
    "name": "ipython",
    "version": 3
   },
   "file_extension": ".py",
   "mimetype": "text/x-python",
   "name": "python",
   "nbconvert_exporter": "python",
   "pygments_lexer": "ipython3",
   "version": "3.10.8"
  }
 },
 "nbformat": 4,
 "nbformat_minor": 5
}
